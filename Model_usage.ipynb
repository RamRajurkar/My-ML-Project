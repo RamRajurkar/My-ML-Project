{
 "cells": [
  {
   "cell_type": "markdown",
   "id": "93174d6a-4f37-4c94-9cf5-73d696736b34",
   "metadata": {},
   "source": [
    "## Loading the Serialized Model and Data Preprocessing Pipeline:\r\n",
    "\r\n",
    "Use the load function from the joblib library to load your serialized model and data preprocessing pipeline.\r\n",
    "For example:"
   ]
  },
  {
   "cell_type": "code",
   "execution_count": 1,
   "id": "fd35ac1c-bac9-436f-99d1-7fcc148ab8c3",
   "metadata": {},
   "outputs": [
    {
     "data": {
      "text/plain": [
       "array([20.583])"
      ]
     },
     "execution_count": 1,
     "metadata": {},
     "output_type": "execute_result"
    }
   ],
   "source": [
    "from joblib import load\n",
    "model = load('housing_price_model.joblib')\n",
    "pipeline = load('data_preprocessing_pipeline.joblib')\n"
   ]
  },
  {
   "cell_type": "markdown",
   "id": "940c3cf6-d80b-4b3f-b0ef-58d57da40bb5",
   "metadata": {},
   "source": [
    "## Using the Serialized Model and Data Preprocessing Pipeline to Make Predictions:\r\n",
    "\r\n",
    "Once you have loaded your model and pipeline, you can use them to preprocess new data and make predictions.\r\n",
    "For example, if you have new data stored in a pandas DataFrame called new_data:"
   ]
  },
  {
   "cell_type": "code",
   "execution_count": null,
   "id": "0f74762a-1a8b-4ef3-a393-cc79b2126d82",
   "metadata": {},
   "outputs": [],
   "source": [
    "# Preprocess the new data using the data preprocessing pipeline\n",
    "preprocessed_data = pipeline.transform(new_data)\n",
    "\n",
    "# Make predictions using the preprocessed data and the loaded model\n",
    "predictions = model.predict(preprocessed_data)\n",
    "\n",
    "# Print or return the predictions\n",
    "print(predictions)\n"
   ]
  }
 ],
 "metadata": {
  "kernelspec": {
   "display_name": "Python 3 (ipykernel)",
   "language": "python",
   "name": "python3"
  },
  "language_info": {
   "codemirror_mode": {
    "name": "ipython",
    "version": 3
   },
   "file_extension": ".py",
   "mimetype": "text/x-python",
   "name": "python",
   "nbconvert_exporter": "python",
   "pygments_lexer": "ipython3",
   "version": "3.11.8"
  }
 },
 "nbformat": 4,
 "nbformat_minor": 5
}
